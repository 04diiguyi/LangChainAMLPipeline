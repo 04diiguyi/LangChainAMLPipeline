{
  "cells": [
    {
      "cell_type": "code",
      "source": [
        "from azure.ai.ml import MLClient\r\n",
        "from azure.identity import DefaultAzureCredential\r\n",
        "\r\n",
        "from api_key import Az_subscription_id, Az_resource_group_name, Az_workspace_name\r\n",
        "\r\n",
        "# authenticate\r\n",
        "credential = DefaultAzureCredential()\r\n",
        "# # Get a handle to the workspace\r\n",
        "ml_client = MLClient(\r\n",
        "    credential=credential,\r\n",
        "    subscription_id=Az_subscription_id,\r\n",
        "    resource_group_name=Az_resource_group_name,\r\n",
        "    workspace_name=Az_workspace_name,\r\n",
        ")"
      ],
      "outputs": [],
      "execution_count": null,
      "metadata": {
        "gather": {
          "logged": 1686687091566
        }
      }
    },
    {
      "cell_type": "code",
      "source": [
        "from azure.ai.ml.entities import Environment\r\n",
        "import os\r\n",
        "\r\n",
        "custom_env_name = \"openai\"\r\n",
        "\r\n",
        "pipeline_job_env = Environment(\r\n",
        "    name=custom_env_name,\r\n",
        "    description=\"Custom environment for OpenAI Validation pipeline\",\r\n",
        "    conda_file=os.path.join(\"./\", \"conda.yaml\"),\r\n",
        "    image=\"mcr.microsoft.com/azureml/openmpi4.1.0-ubuntu20.04:latest\",\r\n",
        "    version=\"0.1.1\",\r\n",
        ")\r\n",
        "pipeline_job_env = ml_client.environments.create_or_update(pipeline_job_env)\r\n",
        "\r\n",
        "print(\r\n",
        "    f\"Environment with name {pipeline_job_env.name} is registered to workspace, the environment version is {pipeline_job_env.version}\"\r\n",
        ")"
      ],
      "outputs": [],
      "execution_count": null,
      "metadata": {
        "jupyter": {
          "source_hidden": false,
          "outputs_hidden": false
        },
        "nteract": {
          "transient": {
            "deleting": false
          }
        },
        "gather": {
          "logged": 1686687099761
        }
      }
    },
    {
      "cell_type": "code",
      "source": [
        "envs = ml_client.environments.list()\r\n",
        "for env in envs:\r\n",
        "    print(env)"
      ],
      "outputs": [],
      "execution_count": null,
      "metadata": {
        "jupyter": {
          "source_hidden": false,
          "outputs_hidden": false
        },
        "nteract": {
          "transient": {
            "deleting": false
          }
        },
        "gather": {
          "logged": 1686687104431
        }
      }
    },
    {
      "cell_type": "code",
      "source": [
        "from azure.ai.ml.entities import AmlCompute\r\n",
        "\r\n",
        "# Name assigned to the compute cluster\r\n",
        "cpu_compute_target = \"mycompute\"\r\n",
        "\r\n",
        "try:\r\n",
        "    # let's see if the compute target already exists\r\n",
        "    cpu_cluster = ml_client.compute.get(cpu_compute_target)\r\n",
        "    print(\r\n",
        "        f\"You already have a cluster named {cpu_compute_target}, we'll reuse it as is.\"\r\n",
        "    )\r\n",
        "\r\n",
        "except Exception:\r\n",
        "    print(\"Creating a new cpu compute target...\")\r\n",
        "\r\n",
        "    # Let's create the Azure Machine Learning compute object with the intended parameters\r\n",
        "    cpu_cluster = AmlCompute(\r\n",
        "        name=cpu_compute_target,\r\n",
        "        # Azure Machine Learning Compute is the on-demand VM service\r\n",
        "        type=\"amlcompute\",\r\n",
        "        # VM Family\r\n",
        "        size=\"STANDARD_DS3_V2\",\r\n",
        "        # Minimum running nodes when there is no job running\r\n",
        "        min_instances=0,\r\n",
        "        # Nodes in cluster\r\n",
        "        max_instances=4,\r\n",
        "        # How many seconds will the node running after the job termination\r\n",
        "        idle_time_before_scale_down=180,\r\n",
        "        # Dedicated or LowPriority. The latter is cheaper but there is a chance of job termination\r\n",
        "        tier=\"Dedicated\",\r\n",
        "    )\r\n",
        "    print(\r\n",
        "        f\"AMLCompute with name {cpu_cluster.name} will be created, with compute size {cpu_cluster.size}\"\r\n",
        "    )\r\n",
        "    # Now, we pass the object to MLClient's create_or_update method\r\n",
        "    cpu_cluster = ml_client.compute.begin_create_or_update(cpu_cluster)"
      ],
      "outputs": [],
      "execution_count": null,
      "metadata": {
        "jupyter": {
          "source_hidden": false,
          "outputs_hidden": false
        },
        "nteract": {
          "transient": {
            "deleting": false
          }
        },
        "gather": {
          "logged": 1686687116812
        }
      }
    },
    {
      "cell_type": "code",
      "source": [
        "from azure.ai.ml.entities import Data\r\n",
        "from azure.ai.ml.constants import AssetTypes\r\n",
        "\r\n",
        "input_path = '../data/input.jsonl'\r\n",
        "\r\n",
        "input_data = Data(\r\n",
        "    path=input_path,\r\n",
        "    type=AssetTypes.URI_FILE,\r\n",
        "    description=\"input data\",\r\n",
        "    name=\"input_data\",\r\n",
        "    version='1.0.1'\r\n",
        ")\r\n",
        "\r\n",
        "ml_client.data.create_or_update(input_data)"
      ],
      "outputs": [],
      "execution_count": null,
      "metadata": {
        "jupyter": {
          "source_hidden": false,
          "outputs_hidden": false
        },
        "nteract": {
          "transient": {
            "deleting": false
          }
        },
        "gather": {
          "logged": 1686687139485
        }
      }
    },
    {
      "cell_type": "code",
      "source": [
        "# We have the data and its path\r\n",
        "print(\r\n",
        "    f\"Dataset with name {input_data.name} was registered to workspace, the dataset version is {input_data.version}, the path is {input_data.path}\"\r\n",
        ")"
      ],
      "outputs": [],
      "execution_count": null,
      "metadata": {
        "jupyter": {
          "source_hidden": false,
          "outputs_hidden": false
        },
        "nteract": {
          "transient": {
            "deleting": false
          }
        },
        "gather": {
          "logged": 1686687142338
        }
      }
    },
    {
      "cell_type": "code",
      "source": [
        "from azure.ai.ml.entities import Data\r\n",
        "from azure.ai.ml.constants import AssetTypes\r\n",
        "\r\n",
        "output_path = '../data/output.jsonl'\r\n",
        "\r\n",
        "output_file = Data(\r\n",
        "    path=output_path,\r\n",
        "    type=AssetTypes.URI_FILE,\r\n",
        "    description=\"output file\",\r\n",
        "    name=\"output\",\r\n",
        "    version='1.0.1'\r\n",
        ")\r\n",
        "\r\n",
        "ml_client.data.create_or_update(output_file)"
      ],
      "outputs": [],
      "execution_count": null,
      "metadata": {
        "jupyter": {
          "source_hidden": false,
          "outputs_hidden": false
        },
        "nteract": {
          "transient": {
            "deleting": false
          }
        },
        "gather": {
          "logged": 1686687148321
        }
      }
    },
    {
      "cell_type": "code",
      "source": [
        "from azure.ai.ml import command\r\n",
        "from azure.ai.ml import Input, Output\r\n",
        "from azure.ai.ml.constants import AssetTypes, InputOutputModes\r\n",
        "\r\n",
        "input_mode = InputOutputModes.RO_MOUNT\r\n",
        "output_mode = InputOutputModes.RW_MOUNT\r\n",
        "\r\n",
        "langchain_job_inputs={\r\n",
        "    \"input_data\": Input(type=\"uri_file\", path=input_data.path, mode=input_mode)\r\n",
        "}\r\n",
        "\r\n",
        "langchain_job_outputs = {\r\n",
        "    \"output_data\": Output(type=\"uri_file\", path=output_file.path, mode=output_mode)\r\n",
        "}\r\n",
        "\r\n",
        "langchain_job = command(\r\n",
        "    inputs=langchain_job_inputs,\r\n",
        "    outputs=langchain_job_outputs,\r\n",
        "    code=\"./\",  # location of source code\r\n",
        "    command=\"python OpenAIApp.py --input ${{inputs.input_data}} --output ${{outputs.output_data}}\",\r\n",
        "    environment=\"openai\"+\"@latest\",\r\n",
        "    compute=\"mycompute\",\r\n",
        "    display_name=\"extract information\",\r\n",
        ")"
      ],
      "outputs": [],
      "execution_count": null,
      "metadata": {
        "jupyter": {
          "source_hidden": false,
          "outputs_hidden": false
        },
        "nteract": {
          "transient": {
            "deleting": false
          }
        },
        "gather": {
          "logged": 1686687151717
        }
      }
    },
    {
      "cell_type": "code",
      "source": [
        "ml_client.create_or_update(langchain_job)"
      ],
      "outputs": [],
      "execution_count": null,
      "metadata": {
        "jupyter": {
          "source_hidden": false,
          "outputs_hidden": false
        },
        "nteract": {
          "transient": {
            "deleting": false
          }
        },
        "gather": {
          "logged": 1686687159595
        }
      }
    },
    {
      "cell_type": "code",
      "source": [
        "from azure.ai.ml.entities import Data\r\n",
        "from azure.ai.ml.constants import AssetTypes\r\n",
        "\r\n",
        "validation_path = '../data/decision.jsonl'\r\n",
        "\r\n",
        "validation_file = Data(\r\n",
        "    path=validation_path,\r\n",
        "    type=AssetTypes.URI_FILE,\r\n",
        "    description=\"validation file\",\r\n",
        "    name=\"validation\",\r\n",
        "    version='1.0.1'\r\n",
        ")\r\n",
        "\r\n",
        "ml_client.data.create_or_update(validation_file)"
      ],
      "outputs": [],
      "execution_count": null,
      "metadata": {
        "jupyter": {
          "source_hidden": false,
          "outputs_hidden": false
        },
        "nteract": {
          "transient": {
            "deleting": false
          }
        },
        "gather": {
          "logged": 1686687164301
        }
      }
    },
    {
      "cell_type": "code",
      "source": [
        "validation_job_inputs={\r\n",
        "    \"input_data\": Input(type=\"uri_file\", path=output_file.path, mode=input_mode)\r\n",
        "}\r\n",
        "\r\n",
        "validation_job_outputs = {\r\n",
        "    \"output_data\": Output(type=\"uri_file\", path=validation_file.path, mode=output_mode)\r\n",
        "}\r\n",
        "\r\n",
        "validation_job = command(\r\n",
        "    inputs=validation_job_inputs,\r\n",
        "    outputs=validation_job_outputs,\r\n",
        "    code=\"./\",  # location of source code\r\n",
        "    command=\"python OpenAIValidation.py --input ${{inputs.input_data}} --output ${{outputs.output_data}}\",\r\n",
        "    environment=\"openai\"+\"@latest\",\r\n",
        "    compute=\"mycompute\",\r\n",
        "    display_name=\"validation result\",\r\n",
        ")"
      ],
      "outputs": [],
      "execution_count": null,
      "metadata": {
        "jupyter": {
          "source_hidden": false,
          "outputs_hidden": false
        },
        "nteract": {
          "transient": {
            "deleting": false
          }
        },
        "gather": {
          "logged": 1686687167539
        }
      }
    },
    {
      "cell_type": "code",
      "source": [
        "ml_client.create_or_update(validation_job)"
      ],
      "outputs": [],
      "execution_count": null,
      "metadata": {
        "jupyter": {
          "source_hidden": false,
          "outputs_hidden": false
        },
        "nteract": {
          "transient": {
            "deleting": false
          }
        },
        "gather": {
          "logged": 1686687172650
        }
      }
    },
    {
      "cell_type": "code",
      "source": [
        "# the dsl decorator tells the sdk that we are defining an Azure Machine Learning pipeline\r\n",
        "from azure.ai.ml import dsl, Input, Output\r\n",
        "\r\n",
        "\r\n",
        "@dsl.pipeline(\r\n",
        "    compute=cpu_compute_target,\r\n",
        "    description=\"E2E OpenAI Q&A and validation pipeline\",\r\n",
        ")\r\n",
        "def credit_defaults_pipeline(\r\n",
        "    pipeline_job_data_input,\r\n",
        "):\r\n",
        "    # using data_prep_function like a python call with its own inputs\r\n",
        "    qa_job = langchain_job(\r\n",
        "        input_data=pipeline_job_data_input,\r\n",
        "    )\r\n",
        "\r\n",
        "    # using train_func like a python call with its own inputs\r\n",
        "    result_job = validation_job(\r\n",
        "        input_data=qa_job.outputs.output_data,  # note: using outputs from previous step\r\n",
        "    )\r\n",
        "\r\n",
        "    # a pipeline returns a dictionary of outputs\r\n",
        "    # keys will code for the pipeline output identifier\r\n",
        "    return {\r\n",
        "        \"pipeline_qa_job__data\": qa_job.outputs.output_data,\r\n",
        "        \"pipeline_result_job_data\": result_job.outputs.output_data,\r\n",
        "    }"
      ],
      "outputs": [],
      "execution_count": null,
      "metadata": {
        "jupyter": {
          "source_hidden": false,
          "outputs_hidden": false
        },
        "nteract": {
          "transient": {
            "deleting": false
          }
        },
        "gather": {
          "logged": 1686687177299
        }
      }
    },
    {
      "cell_type": "code",
      "source": [
        "# Let's instantiate the pipeline with the parameters of our choice\r\n",
        "pipeline = credit_defaults_pipeline(\r\n",
        "    pipeline_job_data_input=Input(type=\"uri_file\", path=input_data.path),\r\n",
        ")"
      ],
      "outputs": [],
      "execution_count": null,
      "metadata": {
        "jupyter": {
          "source_hidden": false,
          "outputs_hidden": false
        },
        "nteract": {
          "transient": {
            "deleting": false
          }
        },
        "gather": {
          "logged": 1686687182330
        }
      }
    },
    {
      "cell_type": "code",
      "source": [
        "# submit the pipeline job\r\n",
        "pipeline_job = ml_client.jobs.create_or_update(\r\n",
        "    pipeline,\r\n",
        "    # Project's name\r\n",
        "    experiment_name=\"e2e_registered_components\",\r\n",
        ")\r\n",
        "ml_client.jobs.stream(pipeline_job.name)"
      ],
      "outputs": [],
      "execution_count": null,
      "metadata": {
        "jupyter": {
          "source_hidden": false,
          "outputs_hidden": false
        },
        "nteract": {
          "transient": {
            "deleting": false
          }
        },
        "gather": {
          "logged": 1686687656502
        }
      }
    }
  ],
  "metadata": {
    "kernelspec": {
      "name": "python310-sdkv2",
      "language": "python",
      "display_name": "Python 3.10 - SDK v2"
    },
    "language_info": {
      "name": "python",
      "version": "3.10.10",
      "mimetype": "text/x-python",
      "codemirror_mode": {
        "name": "ipython",
        "version": 3
      },
      "pygments_lexer": "ipython3",
      "nbconvert_exporter": "python",
      "file_extension": ".py"
    },
    "microsoft": {
      "ms_spell_check": {
        "ms_spell_check_language": "en"
      },
      "host": {
        "AzureML": {
          "notebookHasBeenCompleted": true
        }
      }
    },
    "nteract": {
      "version": "nteract-front-end@1.0.0"
    },
    "kernel_info": {
      "name": "python310-sdkv2"
    }
  },
  "nbformat": 4,
  "nbformat_minor": 2
}