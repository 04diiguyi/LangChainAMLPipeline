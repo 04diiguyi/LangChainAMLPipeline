{
  "cells": [
    {
      "cell_type": "code",
      "source": [
        "!python OpenAIApp.py --input=../data/input.jsonl --output=../data"
      ],
      "outputs": [
        {
          "output_type": "stream",
          "name": "stdout",
          "text": "../data/input.jsonl\n[{'input': 'My car is Ford Focus 2014', 'expected': {'Year': '2014', 'Maker': 'Ford', 'Model': 'Focus'}, 'key': 0}, {'input': 'My car is BMW X5 2017', 'expected': {'Year': '2017', 'Maker': 'BMW', 'Model': 'X5'}, 'key': 1}]\n{'input': 'My car is Ford Focus 2014', 'expected': {'Year': '2014', 'Maker': 'Ford', 'Model': 'Focus'}, 'key': 0}\n{'input': 'My car is BMW X5 2017', 'expected': {'Year': '2017', 'Maker': 'BMW', 'Model': 'X5'}, 'key': 1}\n"
        }
      ],
      "execution_count": 5,
      "metadata": {}
    },
    {
      "cell_type": "code",
      "source": [
        "!python OpenAIValidation.py --input=../data/output.jsonl --output=../data"
      ],
      "outputs": [
        {
          "output_type": "stream",
          "name": "stdout",
          "text": "../data/output.jsonl\n[{'input': 'My car is Ford Focus 2014', 'expected': {'Year': '2014', 'Maker': 'Ford', 'Model': 'Focus'}, 'key': 0, 'actual': 'Here is the JSON output for the given vehicle information:\\n\\n```\\n{\\n  \"Maker\": \"Ford\",\\n  \"Year\": \"2014\",\\n  \"Model\": \"Focus\"\\n}\\n```'}, {'input': 'My car is BMW X5 2017', 'expected': {'Year': '2017', 'Maker': 'BMW', 'Model': 'X5'}, 'key': 1, 'actual': 'Here\\'s the output in JSON format:\\n\\n```\\n{\\n  \"Maker\": \"BMW\",\\n  \"Year\": \"2017\",\\n  \"Model\": \"X5\"\\n}\\n```'}]\n{'input': 'My car is Ford Focus 2014', 'expected': {'Year': '2014', 'Maker': 'Ford', 'Model': 'Focus'}, 'key': 0, 'actual': 'Here is the JSON output for the given vehicle information:\\n\\n```\\n{\\n  \"Maker\": \"Ford\",\\n  \"Year\": \"2014\",\\n  \"Model\": \"Focus\"\\n}\\n```'}\nTrue. The order of the key-value pairs in JSON does not matter, as long as the keys and values match.\n{'input': 'My car is BMW X5 2017', 'expected': {'Year': '2017', 'Maker': 'BMW', 'Model': 'X5'}, 'key': 1, 'actual': 'Here\\'s the output in JSON format:\\n\\n```\\n{\\n  \"Maker\": \"BMW\",\\n  \"Year\": \"2017\",\\n  \"Model\": \"X5\"\\n}\\n```'}\nTrue. The order of the key-value pairs in JSON does not matter, as long as the keys and values match.\n"
        }
      ],
      "execution_count": 6,
      "metadata": {
        "jupyter": {
          "source_hidden": false,
          "outputs_hidden": false
        },
        "nteract": {
          "transient": {
            "deleting": false
          }
        }
      }
    }
  ],
  "metadata": {
    "kernelspec": {
      "name": "python310-sdkv2",
      "language": "python",
      "display_name": "Python 3.10 - SDK v2"
    },
    "language_info": {
      "name": "python",
      "version": "3.10.10",
      "mimetype": "text/x-python",
      "codemirror_mode": {
        "name": "ipython",
        "version": 3
      },
      "pygments_lexer": "ipython3",
      "nbconvert_exporter": "python",
      "file_extension": ".py"
    },
    "microsoft": {
      "ms_spell_check": {
        "ms_spell_check_language": "en"
      }
    },
    "kernel_info": {
      "name": "python310-sdkv2"
    },
    "nteract": {
      "version": "nteract-front-end@1.0.0"
    }
  },
  "nbformat": 4,
  "nbformat_minor": 2
}